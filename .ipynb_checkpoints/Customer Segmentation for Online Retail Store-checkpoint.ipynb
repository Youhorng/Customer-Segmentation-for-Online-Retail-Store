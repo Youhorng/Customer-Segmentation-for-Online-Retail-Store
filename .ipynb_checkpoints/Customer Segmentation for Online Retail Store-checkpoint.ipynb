{
 "cells": [
  {
   "cell_type": "markdown",
   "id": "a649bb41",
   "metadata": {},
   "source": [
    "## Final Project: Customer Segmentation and Product Recommendation\n",
    "### ITM-370: Data Analytics\n",
    "### Lecturer: HAS Sothea, PhD\n",
    "### Group 8: OUL Kimhak, KEAN Youhorng, KHUN Pungmonyratanak"
   ]
  },
  {
   "cell_type": "markdown",
   "id": "a21c0ae0",
   "metadata": {},
   "source": [
    "<img src=\"https://www.bounteous.com/sites/default/files/insights/2022-10/previews/screen_shot_2022-09-01_at_12.34.57_pm.png\" width=\"1400\">"
   ]
  },
  {
   "cell_type": "code",
   "execution_count": null,
   "id": "4eb4534f",
   "metadata": {},
   "outputs": [],
   "source": []
  }
 ],
 "metadata": {
  "kernelspec": {
   "display_name": "Python 3 (ipykernel)",
   "language": "python",
   "name": "python3"
  },
  "language_info": {
   "codemirror_mode": {
    "name": "ipython",
    "version": 3
   },
   "file_extension": ".py",
   "mimetype": "text/x-python",
   "name": "python",
   "nbconvert_exporter": "python",
   "pygments_lexer": "ipython3",
   "version": "3.11.5"
  }
 },
 "nbformat": 4,
 "nbformat_minor": 5
}
